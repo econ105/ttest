{
  "nbformat": 4,
  "nbformat_minor": 0,
  "metadata": {
    "colab": {
      "provenance": [],
      "authorship_tag": "ABX9TyNBwMCE2SRj+CtQ9jn10AJN",
      "include_colab_link": true
    },
    "kernelspec": {
      "name": "python3",
      "display_name": "Python 3"
    },
    "language_info": {
      "name": "python"
    }
  },
  "cells": [
    {
      "cell_type": "markdown",
      "metadata": {
        "id": "view-in-github",
        "colab_type": "text"
      },
      "source": [
        "<a href=\"https://colab.research.google.com/github/econ105/ttest/blob/main/Partialderivative.ipynb\" target=\"_parent\"><img src=\"https://colab.research.google.com/assets/colab-badge.svg\" alt=\"Open In Colab\"/></a>"
      ]
    },
    {
      "cell_type": "code",
      "source": [
        "from sympy import symbols, diff\n",
        "\n",
        "# Define the variables\n",
        "x, y = symbols('x y')\n",
        "\n",
        "# Define the equation\n",
        "equation = x**2 * y + y**3\n",
        "\n",
        "# Compute the partial derivative\n",
        "partial_derivative_y = diff(equation, y)\n",
        "\n",
        "# Print the partial derivative\n",
        "print(\"Partial derivative with respect to y:\")\n",
        "print(partial_derivative_y)\n",
        "\n",
        "#ChatGPT 3.5 prompt: Python code for Partial derivative with respect to y (the equation has x and y) [this can be even shortened]\n",
        "#Rewrite that for partial derivative with respect to x"
      ],
      "metadata": {
        "colab": {
          "base_uri": "https://localhost:8080/"
        },
        "id": "rHABbUJYD5d0",
        "outputId": "7d44fa41-881b-4514-d8ba-38ace9a2b553"
      },
      "execution_count": 3,
      "outputs": [
        {
          "output_type": "stream",
          "name": "stdout",
          "text": [
            "Partial derivative with respect to y:\n",
            "x**2 + 3*y**2\n"
          ]
        }
      ]
    },
    {
      "cell_type": "code",
      "source": [
        "from sympy import symbols, diff\n",
        "\n",
        "# Define the variables\n",
        "x, y = symbols('x y')\n",
        "\n",
        "# Define the equation\n",
        "equation = x**2 * y + y**3\n",
        "\n",
        "# Compute the partial derivative\n",
        "partial_derivative_x = diff(equation, x)\n",
        "\n",
        "# Print the partial derivative\n",
        "print(\"Partial derivative with respect to x:\")\n",
        "print(partial_derivative_x)\n",
        "\n"
      ],
      "metadata": {
        "colab": {
          "base_uri": "https://localhost:8080/"
        },
        "id": "hea9MHODEUHD",
        "outputId": "8c5db08b-41a9-4348-9985-e079e68b620d"
      },
      "execution_count": 4,
      "outputs": [
        {
          "output_type": "stream",
          "name": "stdout",
          "text": [
            "Partial derivative with respect to x:\n",
            "2*x*y\n"
          ]
        }
      ]
    }
  ]
}