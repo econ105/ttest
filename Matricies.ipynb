{
  "nbformat": 4,
  "nbformat_minor": 0,
  "metadata": {
    "colab": {
      "provenance": [],
      "authorship_tag": "ABX9TyOro5TT6KWLS1SLEVwSAO5z",
      "include_colab_link": true
    },
    "kernelspec": {
      "name": "python3",
      "display_name": "Python 3"
    },
    "language_info": {
      "name": "python"
    }
  },
  "cells": [
    {
      "cell_type": "markdown",
      "metadata": {
        "id": "view-in-github",
        "colab_type": "text"
      },
      "source": [
        "<a href=\"https://colab.research.google.com/github/econ105/ttest/blob/main/Matricies.ipynb\" target=\"_parent\"><img src=\"https://colab.research.google.com/assets/colab-badge.svg\" alt=\"Open In Colab\"/></a>"
      ]
    },
    {
      "cell_type": "code",
      "execution_count": 1,
      "metadata": {
        "colab": {
          "base_uri": "https://localhost:8080/"
        },
        "id": "17TstQklvees",
        "outputId": "811d6455-0042-4aac-9827-8b9359fccbae"
      },
      "outputs": [
        {
          "output_type": "stream",
          "name": "stdout",
          "text": [
            "Column matrix:\n",
            "[[1]\n",
            " [2]\n",
            " [3]]\n",
            "Row matrix:\n",
            "[[1 2 3]]\n"
          ]
        }
      ],
      "source": [
        "import numpy as np\n",
        "\n",
        "# Create a column matrix\n",
        "column_matrix = np.array([[1], [2], [3]])\n",
        "print(\"Column matrix:\")\n",
        "print(column_matrix)\n",
        "\n",
        "# Create a row matrix\n",
        "row_matrix = np.array([[1, 2, 3]])\n",
        "print(\"Row matrix:\")\n",
        "print(row_matrix)"
      ]
    },
    {
      "cell_type": "code",
      "source": [
        "import numpy as np\n",
        "\n",
        "# Create a 2x4 matrix\n",
        "matrix_2x4 = np.array([[1, 2, 3, 4],\n",
        "                       [5, 6, 7, 8]])\n",
        "print(\"2x4 matrix:\")\n",
        "print(matrix_2x4)\n",
        "\n",
        "# Create a 3x5 matrix\n",
        "matrix_3x5 = np.array([[1, 2, 3, 4, 5],\n",
        "                       [6, 7, 8, 9, 10],\n",
        "                       [11, 12, 13, 14, 15]])\n",
        "print(\"3x5 matrix:\")\n",
        "print(matrix_3x5)"
      ],
      "metadata": {
        "colab": {
          "base_uri": "https://localhost:8080/"
        },
        "id": "_--n5bWTvqkd",
        "outputId": "aa049ed4-ba85-434f-bb90-2fdbb5edbc06"
      },
      "execution_count": 2,
      "outputs": [
        {
          "output_type": "stream",
          "name": "stdout",
          "text": [
            "2x4 matrix:\n",
            "[[1 2 3 4]\n",
            " [5 6 7 8]]\n",
            "3x5 matrix:\n",
            "[[ 1  2  3  4  5]\n",
            " [ 6  7  8  9 10]\n",
            " [11 12 13 14 15]]\n"
          ]
        }
      ]
    },
    {
      "cell_type": "code",
      "source": [
        "import numpy as np\n",
        "\n",
        "# Create the first 3x5 matrix\n",
        "matrix1 = np.array([[1, 2, 3, 4, 5],\n",
        "                    [6, 7, 8, 9, 10],\n",
        "                    [11, 12, 13, 14, 15]])\n",
        "\n",
        "# Create the second 3x5 matrix\n",
        "matrix2 = np.array([[5, 4, 3, 2, 1],\n",
        "                    [10, 9, 8, 7, 6],\n",
        "                    [15, 14, 13, 12, 11]])\n",
        "\n",
        "# Add the matrices\n",
        "result = matrix1 + matrix2\n",
        "\n",
        "# Print the result\n",
        "print(\"Matrix Addition:\")\n",
        "print(result)"
      ],
      "metadata": {
        "colab": {
          "base_uri": "https://localhost:8080/"
        },
        "id": "5zw0R_26wdUb",
        "outputId": "44762f19-b5d8-449c-9f3b-8461578ca727"
      },
      "execution_count": 5,
      "outputs": [
        {
          "output_type": "stream",
          "name": "stdout",
          "text": [
            "Matrix Addition:\n",
            "[[ 6  6  6  6  6]\n",
            " [16 16 16 16 16]\n",
            " [26 26 26 26 26]]\n"
          ]
        }
      ]
    },
    {
      "cell_type": "code",
      "source": [
        "import numpy as np\n",
        "\n",
        "# Create the first 3x5 matrix\n",
        "matrix1 = np.array([[1, 2, 3, 4, 5],\n",
        "                    [6, 7, 8, 9, 10],\n",
        "                    [11, 12, 13, 14, 15]])\n",
        "\n",
        "# Create the second 3x5 matrix\n",
        "matrix2 = np.array([[5, 4, 3, 2, 1],\n",
        "                    [10, 9, 8, 7, 6],\n",
        "                    [15, 14, 13, 12, 11]])\n",
        "\n",
        "# Subtract the matrices\n",
        "result = matrix1 - matrix2\n",
        "\n",
        "# Print the result\n",
        "print(\"Matrix Subtraction:\")\n",
        "print(result)"
      ],
      "metadata": {
        "colab": {
          "base_uri": "https://localhost:8080/"
        },
        "id": "NdZw9fKawo_F",
        "outputId": "9899ca11-0855-491b-e9f7-991e57e22a06"
      },
      "execution_count": 6,
      "outputs": [
        {
          "output_type": "stream",
          "name": "stdout",
          "text": [
            "Matrix Subtraction:\n",
            "[[-4 -2  0  2  4]\n",
            " [-4 -2  0  2  4]\n",
            " [-4 -2  0  2  4]]\n"
          ]
        }
      ]
    },
    {
      "cell_type": "code",
      "source": [
        "import numpy as np\n",
        "\n",
        "# Create the first 3x5 matrix\n",
        "matrix1 = np.array([[1, 2, 3, 4, 5],\n",
        "                    [6, 7, 8, 9, 10],\n",
        "                    [11, 12, 13, 14, 15]])\n",
        "\n",
        "# Create the second 3x5 matrix\n",
        "matrix2 = np.array([[5, 4, 3, 2, 1],\n",
        "                    [10, 9, 8, 7, 6],\n",
        "                    [15, 14, 13, 12, 11]])\n",
        "\n",
        "# Multiply the matrices\n",
        "result = matrix1 * matrix2\n",
        "\n",
        "# Print the result\n",
        "print(\"Matrix Multiplication:\")\n",
        "print(result)"
      ],
      "metadata": {
        "id": "k14l8MIbwsbv"
      },
      "execution_count": null,
      "outputs": []
    },
    {
      "cell_type": "code",
      "source": [
        "import numpy as np\n",
        "\n",
        "# Create the first matrix\n",
        "matrix1 = np.array([[1, 2, 3],\n",
        "                    [4, 5, 6],\n",
        "                    [7, 8, 9]])\n",
        "\n",
        "# Create the second matrix\n",
        "matrix2 = np.array([[2, 2, 2],\n",
        "                    [2, 2, 2],\n",
        "                    [2, 2, 2]])\n",
        "\n",
        "# Divide the matrices element-wise\n",
        "result = matrix1 / matrix2\n",
        "\n",
        "# Print the result\n",
        "print(\"Matrix Division:\")\n",
        "print(result)\n",
        "# What is the use of matrix? That is related to linear algebra which is the basic of many modelling.\n",
        "# Further reading: https://realpython.com/python-linear-algebra/"
      ],
      "metadata": {
        "id": "7jWEiBc4xABP"
      },
      "execution_count": null,
      "outputs": []
    },
    {
      "cell_type": "code",
      "source": [],
      "metadata": {
        "id": "qYf6ftBbyDWl"
      },
      "execution_count": null,
      "outputs": []
    }
  ]
}