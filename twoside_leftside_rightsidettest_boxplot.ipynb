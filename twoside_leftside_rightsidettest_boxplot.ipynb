{
  "nbformat": 4,
  "nbformat_minor": 0,
  "metadata": {
    "colab": {
      "provenance": [],
      "authorship_tag": "ABX9TyPezlM3pni3emR5Q4lt/Oll",
      "include_colab_link": true
    },
    "kernelspec": {
      "name": "python3",
      "display_name": "Python 3"
    },
    "language_info": {
      "name": "python"
    }
  },
  "cells": [
    {
      "cell_type": "markdown",
      "metadata": {
        "id": "view-in-github",
        "colab_type": "text"
      },
      "source": [
        "<a href=\"https://colab.research.google.com/github/econ105/ttest/blob/main/twoside_leftside_rightsidettest_boxplot.ipynb\" target=\"_parent\"><img src=\"https://colab.research.google.com/assets/colab-badge.svg\" alt=\"Open In Colab\"/></a>"
      ]
    },
    {
      "cell_type": "code",
      "execution_count": null,
      "metadata": {
        "colab": {
          "base_uri": "https://localhost:8080/",
          "height": 505
        },
        "id": "2XnaX73xs5ra",
        "outputId": "55aa3948-84ee-4a8c-8168-00f442c4fcdb"
      },
      "outputs": [
        {
          "output_type": "stream",
          "name": "stdout",
          "text": [
            "Left-tailed p-value: 0.9597418810213687\n",
            "Right-tailed p-value: 0.04025811897863128\n",
            "Two-sided p-value: 0.08051623795726257\n"
          ]
        },
        {
          "output_type": "display_data",
          "data": {
            "text/plain": [
              "<Figure size 640x480 with 1 Axes>"
            ],
            "image/png": "[encoded data removed]"
          },
          "metadata": {}
        }
      ],
      "source": [
        "import numpy as np\n",
        "import scipy.stats as stats\n",
        "import matplotlib.pyplot as plt\n",
        "\n",
        "# Example data\n",
        "group1 = np.array([5, 7, 6, 8, 9])\n",
        "group2 = np.array([3, 6, 4, 7, 5])\n",
        "\n",
        "# Perform left-tailed t-test\n",
        "left_tailed_pvalue = stats.ttest_ind(group1, group2, alternative='less').pvalue\n",
        "print(\"Left-tailed p-value:\", left_tailed_pvalue)\n",
        "\n",
        "# Perform right-tailed t-test\n",
        "right_tailed_pvalue = stats.ttest_ind(group1, group2, alternative='greater').pvalue\n",
        "print(\"Right-tailed p-value:\", right_tailed_pvalue)\n",
        "\n",
        "# Perform two-sided t-test\n",
        "two_sided_pvalue = stats.ttest_ind(group1, group2).pvalue\n",
        "print(\"Two-sided p-value:\", two_sided_pvalue)\n",
        "\n",
        "# Create box plot\n",
        "plt.boxplot([group1, group2])\n",
        "plt.xticks([1, 2], ['Group 1', 'Group 2'])\n",
        "plt.ylabel('Values')\n",
        "plt.title('Box Plot')\n",
        "plt.show()"
      ]
    }
  ]
}