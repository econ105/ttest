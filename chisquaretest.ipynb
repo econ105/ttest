{
  "nbformat": 4,
  "nbformat_minor": 0,
  "metadata": {
    "colab": {
      "provenance": [],
      "authorship_tag": "ABX9TyOOK8H2X2HITghms820ub3r",
      "include_colab_link": true
    },
    "kernelspec": {
      "name": "python3",
      "display_name": "Python 3"
    },
    "language_info": {
      "name": "python"
    }
  },
  "cells": [
    {
      "cell_type": "markdown",
      "metadata": {
        "id": "view-in-github",
        "colab_type": "text"
      },
      "source": [
        "<a href=\"https://colab.research.google.com/github/econ105/ttest/blob/main/chisquaretest.ipynb\" target=\"_parent\"><img src=\"https://colab.research.google.com/assets/colab-badge.svg\" alt=\"Open In Colab\"/></a>"
      ]
    },
    {
      "cell_type": "code",
      "execution_count": null,
      "metadata": {
        "colab": {
          "base_uri": "https://localhost:8080/"
        },
        "id": "jHJ-hI18Z-BJ",
        "outputId": "e248b871-5b97-41c3-b41b-7b7df0222111"
      },
      "outputs": [
        {
          "output_type": "stream",
          "name": "stdout",
          "text": [
            "Chi-Square Test:\n",
            "Observed Frequencies:\n",
            "[[10 15]\n",
            " [20 25]]\n",
            "Expected Frequencies:\n",
            "[[10.71428571 14.28571429]\n",
            " [19.28571429 25.71428571]]\n",
            "Test Statistic: 0.011666666666666653\n",
            "p-value: 0.9139858996305869\n",
            "Degrees of Freedom: 1\n",
            "Test Conclusion: Fail to Reject Null Hypothesis\n"
          ]
        }
      ],
      "source": [
        "import numpy as np\n",
        "from scipy.stats import chi2_contingency\n",
        "\n",
        "# Create a contingency table\n",
        "observed = np.array([[10, 15], [20, 25]])\n",
        "\n",
        "# Perform chi-square test\n",
        "chi2, p_value, dof, expected = chi2_contingency(observed)\n",
        "\n",
        "# Print the results\n",
        "print(\"Chi-Square Test:\")\n",
        "print(\"Observed Frequencies:\")\n",
        "print(observed)\n",
        "print(\"Expected Frequencies:\")\n",
        "print(expected)\n",
        "print(\"Test Statistic:\", chi2)\n",
        "print(\"p-value:\", p_value)\n",
        "print(\"Degrees of Freedom:\", dof)\n",
        "print(\"Test Conclusion:\", \"Reject Null Hypothesis\" if p_value < 0.05 else \"Fail to Reject Null Hypothesis\")"
      ]
    }
  ]
}