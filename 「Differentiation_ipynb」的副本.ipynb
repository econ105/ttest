{
  "nbformat": 4,
  "nbformat_minor": 0,
  "metadata": {
    "colab": {
      "provenance": [],
      "include_colab_link": true
    },
    "kernelspec": {
      "name": "python3",
      "display_name": "Python 3"
    },
    "language_info": {
      "name": "python"
    }
  },
  "cells": [
    {
      "cell_type": "markdown",
      "metadata": {
        "id": "view-in-github",
        "colab_type": "text"
      },
      "source": [
        "<a href=\"https://colab.research.google.com/github/econ105/ttest/blob/main/%E3%80%8CDifferentiation_ipynb%E3%80%8D%E7%9A%84%E5%89%AF%E6%9C%AC.ipynb\" target=\"_parent\"><img src=\"https://colab.research.google.com/assets/colab-badge.svg\" alt=\"Open In Colab\"/></a>"
      ]
    },
    {
      "cell_type": "code",
      "source": [
        "from sympy import *  #import sympy package here first, same as R programming, any words after # are comments and cannot be run"
      ],
      "metadata": {
        "id": "Zj0HvRRYY2iK"
      },
      "execution_count": null,
      "outputs": []
    },
    {
      "cell_type": "code",
      "source": [],
      "metadata": {
        "id": "PkQ0XMJPNIMX"
      },
      "execution_count": null,
      "outputs": []
    },
    {
      "cell_type": "code",
      "source": [
        "x=symbols('x')"
      ],
      "metadata": {
        "id": "R4ItEmOJZBnE"
      },
      "execution_count": null,
      "outputs": []
    },
    {
      "cell_type": "code",
      "source": [
        "f=2*x**5+5*x+8 # *refers to multiply, ** refers to power, + is the same as the + in maths"
      ],
      "metadata": {
        "id": "yi5x7SwkZZ-J"
      },
      "execution_count": null,
      "outputs": []
    },
    {
      "cell_type": "code",
      "source": [
        "f #tell Python you wanna know what is f"
      ],
      "metadata": {
        "colab": {
          "base_uri": "https://localhost:8080/",
          "height": 39
        },
        "id": "AUXN6midZm9D",
        "outputId": "d7c3a8ff-7855-4702-9abf-a1bf83b47542"
      },
      "execution_count": null,
      "outputs": [
        {
          "output_type": "execute_result",
          "data": {
            "text/plain": [
              "2*x**5 + 5*x + 8"
            ],
            "text/latex": "$\\displaystyle 2 x^{5} + 5 x + 8$"
          },
          "metadata": {},
          "execution_count": 5
        }
      ]
    },
    {
      "cell_type": "code",
      "source": [
        "df = diff(f, x) #df here instructs Python to differiate once, i.e. first derivative"
      ],
      "metadata": {
        "id": "GYo5-ev5o831"
      },
      "execution_count": null,
      "outputs": []
    },
    {
      "cell_type": "code",
      "source": [
        "df"
      ],
      "metadata": {
        "colab": {
          "base_uri": "https://localhost:8080/",
          "height": 39
        },
        "id": "7gfzyHSPo_AA",
        "outputId": "4521054a-d9e5-4529-d5e8-ec4e99f20723"
      },
      "execution_count": null,
      "outputs": [
        {
          "output_type": "execute_result",
          "data": {
            "text/plain": [
              "10*x**4 + 5"
            ],
            "text/latex": "$\\displaystyle 10 x^{4} + 5$"
          },
          "metadata": {},
          "execution_count": 12
        }
      ]
    },
    {
      "cell_type": "code",
      "source": [
        "d2fd2x = diff(f, x, 2) #the format will be dnfddx = diff(f,x,n), where n refers to the number of derivative like second or third"
      ],
      "metadata": {
        "id": "JddBeVk0pAp4"
      },
      "execution_count": null,
      "outputs": []
    },
    {
      "cell_type": "code",
      "source": [
        "d2fd2x #second derivative"
      ],
      "metadata": {
        "colab": {
          "base_uri": "https://localhost:8080/",
          "height": 39
        },
        "id": "n3dZhofApJ0x",
        "outputId": "57011352-52e7-4b88-a2a4-b921fe29a668"
      },
      "execution_count": null,
      "outputs": [
        {
          "output_type": "execute_result",
          "data": {
            "text/plain": [
              "40*x**3"
            ],
            "text/latex": "$\\displaystyle 40 x^{3}$"
          },
          "metadata": {},
          "execution_count": 14
        }
      ]
    }
  ]
}