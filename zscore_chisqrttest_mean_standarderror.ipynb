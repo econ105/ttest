{
  "nbformat": 4,
  "nbformat_minor": 0,
  "metadata": {
    "colab": {
      "provenance": [],
      "authorship_tag": "ABX9TyMevX/HsPQhR+nOaVB1Josb",
      "include_colab_link": true
    },
    "kernelspec": {
      "name": "python3",
      "display_name": "Python 3"
    },
    "language_info": {
      "name": "python"
    }
  },
  "cells": [
    {
      "cell_type": "markdown",
      "metadata": {
        "id": "view-in-github",
        "colab_type": "text"
      },
      "source": [
        "<a href=\"https://colab.research.google.com/github/econ105/ttest/blob/main/zscore_chisqrttest_mean_standarderror.ipynb\" target=\"_parent\"><img src=\"https://colab.research.google.com/assets/colab-badge.svg\" alt=\"Open In Colab\"/></a>"
      ]
    },
    {
      "cell_type": "code",
      "execution_count": null,
      "metadata": {
        "colab": {
          "base_uri": "https://localhost:8080/"
        },
        "id": "_UDHzcwcIbBm",
        "outputId": "631b2428-61fd-4ed6-e361-b2f7b52798e8"
      },
      "outputs": [
        {
          "output_type": "stream",
          "name": "stdout",
          "text": [
            "1.4\n"
          ]
        }
      ],
      "source": [
        "# Calculate Z-score\n",
        "def calculate_z_score(value, mean, sd):\n",
        "    z_score = (value - mean) / sd\n",
        "    return z_score\n",
        "\n",
        "# Example usage\n",
        "value = 75\n",
        "mean = 68\n",
        "sd = 5\n",
        "\n",
        "z_score = calculate_z_score(value, mean, sd)\n",
        "print(z_score)"
      ]
    },
    {
      "cell_type": "code",
      "source": [
        "from scipy.stats import chi2_contingency\n",
        "\n",
        "# Observed data\n",
        "observed = [[10, 15, 5],\n",
        "            [20, 25, 15]]\n",
        "\n",
        "# Perform chi-square test\n",
        "chi2, p, dof, expected = chi2_contingency(observed)\n",
        "\n",
        "# Print results\n",
        "print(\"Chi-square statistic:\", chi2)\n",
        "print(\"P-value:\", p)\n",
        "print(\"Degrees of freedom:\", dof)\n",
        "print(\"Expected frequencies:\", expected)"
      ],
      "metadata": {
        "colab": {
          "base_uri": "https://localhost:8080/"
        },
        "id": "VnLcLdcMJxaI",
        "outputId": "0e536c1f-1a6e-4b20-c09e-f257c05fd32b"
      },
      "execution_count": null,
      "outputs": [
        {
          "output_type": "stream",
          "name": "stdout",
          "text": [
            "Chi-square statistic: 0.9374999999999999\n",
            "P-value: 0.6257840096045911\n",
            "Degrees of freedom: 2\n",
            "Expected frequencies: [[10.         13.33333333  6.66666667]\n",
            " [20.         26.66666667 13.33333333]]\n"
          ]
        }
      ]
    },
    {
      "cell_type": "code",
      "source": [
        "import math\n",
        "\n",
        "# Population parameters\n",
        "population_mean = 80.00\n",
        "population_sd = 10.00\n",
        "\n",
        "# Sample parameters\n",
        "sample_size = 20\n",
        "\n",
        "# Calculate mean of x̄\n",
        "sample_mean = population_mean\n",
        "mean_x_bar = sample_mean\n",
        "\n",
        "# Calculate standard error of x̄\n",
        "standard_error = population_sd / math.sqrt(sample_size)\n",
        "\n",
        "# Print the results\n",
        "print(\"Mean of x̄:\", mean_x_bar)\n",
        "print(\"Standard Error of x̄:\", standard_error)"
      ],
      "metadata": {
        "colab": {
          "base_uri": "https://localhost:8080/"
        },
        "id": "nlusAeFAKizY",
        "outputId": "6d9d423e-44ad-4a0d-bec9-fdd10ab01854"
      },
      "execution_count": null,
      "outputs": [
        {
          "output_type": "stream",
          "name": "stdout",
          "text": [
            "Mean of x̄: 80.0\n",
            "Standard Error of x̄: 2.23606797749979\n"
          ]
        }
      ]
    }
  ]
}